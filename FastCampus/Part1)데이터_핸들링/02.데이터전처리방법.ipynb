{
 "cells": [
  {
   "cell_type": "markdown",
   "metadata": {},
   "source": [
    "## 경험을 쌓아라\n",
    "- 데이터 전처리 역량을 쌓는 가장 확실한 방법은 좋은 경험을 많이 쌓는 것이다. \n",
    "- 대다수의 경험은 \"이런 방법을 쓰니까 시간만 날리더라. 다른 방법이 제일 좋았다\"라는 레퍼런스가 됨"
   ]
  },
  {
   "cell_type": "markdown",
   "metadata": {},
   "source": [
    "## 결과를 생각하라\n",
    "- 전처리의 결과인 전처리된 데이터의 구조를 미리 생각해야 불필요한 피드백 루프를 막을 수 있다. \n",
    "    - 피드백 루프란 : 어떤 분석을 한 다음에 다시 이전 단계로 돌아가는 상황을 말함"
   ]
  },
  {
   "cell_type": "markdown",
   "metadata": {},
   "source": [
    "## 처리 과정을 생각하라\n",
    "- 원 데이터를 결과 데이터로 바꾸기 위한 과정을 단계별로 정의해야 함"
   ]
  },
  {
   "cell_type": "markdown",
   "metadata": {},
   "source": [
    "## 검색 능력을 쌓아라\n",
    "- 강의에서 대표적인 데이터 전처리 문제와 해법을 다루지만, 데이터 전처리는 `데이터 by 데이터`가 매우 심함\n",
    "    - 배운 내용을 그대로 적용하지 못하는 상황은 반드시 생길 것이다. \n",
    "- 데이터 전처리에 대한 기초적인 역량을 발휘하기 위해서는, 필요한 전처리를 수행하는 방법을 검색하는 역량을 쌓아야 한다.\n",
    "- 검색 쿼리 Tip: python, **모듈**, **how**, **내용**을 포함시켜라."
   ]
  },
  {
   "cell_type": "markdown",
   "metadata": {},
   "source": []
  }
 ],
 "metadata": {
  "interpreter": {
   "hash": "b3ba2566441a7c06988d0923437866b63cedc61552a5af99d1f4fb67d367b25f"
  },
  "kernelspec": {
   "display_name": "Python 3.8.8 ('base')",
   "language": "python",
   "name": "python3"
  },
  "language_info": {
   "name": "python",
   "version": "3.8.8"
  },
  "orig_nbformat": 4
 },
 "nbformat": 4,
 "nbformat_minor": 2
}
