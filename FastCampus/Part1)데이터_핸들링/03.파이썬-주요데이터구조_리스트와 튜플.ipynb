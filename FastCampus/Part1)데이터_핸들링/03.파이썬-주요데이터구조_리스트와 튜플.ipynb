{
 "cells": [
  {
   "cell_type": "markdown",
   "metadata": {},
   "source": [
    "# 파이썬 주요 데이터 구조\n",
    "1. 리스트와 튜플"
   ]
  },
  {
   "cell_type": "markdown",
   "metadata": {},
   "source": [
    "## 개요\n",
    "- 리스트와 튜플 모두 여러 데이터를 담는 컨테이너형 변수임"
   ]
  },
  {
   "cell_type": "code",
   "execution_count": 4,
   "metadata": {},
   "outputs": [
    {
     "name": "stdout",
     "output_type": "stream",
     "text": [
      "[1, 2, 3, 4, 5] ['a', 'b', 'c', 1, 2] [1, 2, [3, 4]]\n",
      "<class 'list'>\n"
     ]
    }
   ],
   "source": [
    "# 리스트 정의 : [Data 1, Data 2, ..., Data n]\n",
    "L1 = [1,2,3,4,5]\n",
    "L2 = ['a', 'b', 'c', 1, 2]\n",
    "L3 = [1, 2, [3, 4]]\n",
    "print(L1, L2, L3)\n",
    "print(type(L1))"
   ]
  },
  {
   "cell_type": "code",
   "execution_count": 5,
   "metadata": {},
   "outputs": [
    {
     "name": "stdout",
     "output_type": "stream",
     "text": [
      "(1, 2, 3, 4, 5) ('a', 'b', 'c', 'd', 'e') (1, 2, [3, 4])\n",
      "<class 'tuple'>\n"
     ]
    }
   ],
   "source": [
    "# 튜플의 정의: (Data 1, Data 2, ..., Data n)\n",
    "T1 = (1,2,3,4,5)\n",
    "T2 = ('a', 'b', 'c', 'd', 'e')\n",
    "T3 = (1, 2, [3, 4])\n",
    "print(T1, T2, T3)\n",
    "print(type(T1))"
   ]
  },
  {
   "cell_type": "markdown",
   "metadata": {},
   "source": [
    "## 공통점1: 인덱싱과 슬라이싱\n",
    "- 리스트와 튜플 모두 인덱싱과 슬라이싱이 가능하다.\n",
    "- 인덱싱 방법\n",
    "    - List[i], Tuple[i]: 앞에서 i번째 요소 (0부터 시작)\n",
    "    - List[-i], Tuple[-i]: 뒤에서 i번째 요소(-1부터 시작)\n",
    "- 슬라이싱 방법 : `List[start:end:step]`, `Tuple[start:end:step]`\n",
    "    - start 인덱스부터 end 인덱스까지 step으로 건너 뛴 부분 리스트 혹은 튜플을 반환\n",
    "    - step은 default가 1로 입력하지 않아도 무방함, List[start:end]\n",
    "    - start와 end도 입력하지 않아도 되나, 콜론(:)은 넣어야 함"
   ]
  },
  {
   "cell_type": "code",
   "execution_count": 8,
   "metadata": {},
   "outputs": [
    {
     "name": "stdout",
     "output_type": "stream",
     "text": [
      "1\n",
      "10\n",
      "6\n",
      "[4, 5, 1]\n",
      "[4, 5, 1]\n",
      "[1, 2, 10, 6]\n",
      "[4, 1]\n"
     ]
    }
   ],
   "source": [
    "# 예시\n",
    "L = [4, 5, 1, 2, 10, 6]\n",
    "\n",
    "print(L[2])\n",
    "print(L[4])\n",
    "print(L[-1])\n",
    "print(L[0:3])\n",
    "print(L[:3])\n",
    "print(L[2:])\n",
    "print(L[0:4:2])"
   ]
  },
  {
   "cell_type": "markdown",
   "metadata": {},
   "source": [
    "## 공통점2: 순회 가능 (iterable)\n",
    "- 리스트와 튜플 모두 for문을 이용하여 순회를 할 수 있음\n",
    "    - `for data in List: `\n",
    "    - `for data in Tuple: `\n",
    "- 따라서 max, min 등의 순회 가능한 요소를 입력 받는 함수의 입력으로 사용할 수 있음"
   ]
  },
  {
   "cell_type": "code",
   "execution_count": 9,
   "metadata": {},
   "outputs": [
    {
     "name": "stdout",
     "output_type": "stream",
     "text": [
      "List 순회\n",
      "1\n",
      "4\n",
      "9\n",
      "16\n",
      "25\n",
      "\n",
      "Tuple 순회\n",
      "1\n",
      "4\n",
      "9\n",
      "16\n",
      "25\n"
     ]
    }
   ],
   "source": [
    "# for 문을 이용한 순회\n",
    "L = [1,2,3,4,5]\n",
    "T = (1,2,3,4,5)\n",
    "\n",
    "print(\"List 순회\")\n",
    "for val in L:\n",
    "    print(val ** 2)\n",
    "\n",
    "print(\"\\nTuple 순회\")\n",
    "for val in T:\n",
    "    print(val ** 2)"
   ]
  },
  {
   "cell_type": "markdown",
   "metadata": {},
   "source": [
    "## 차이점1 : 가변과 불변\n",
    "- 리스트의 요소는 바꿀 수 있으나, 튜플의 요소는 바꿀 수 없다.\n",
    "- 따라서 리스트는 사전의 key로 사용할 수 없지만, 튜플은 사전의 key로 사용 가능하다.\n",
    "    - Tip 1 : 불변의 자료형(int, float, str 등)만 사전의 key로 사용할 수 있다.\n",
    "    - Tip 2 : 조건 등을 입력으로, 해당 조건에 대응되는 값들을 출력하는 사전 구축은 의외로 많은 데이터 전처리에서 사용한다."
   ]
  },
  {
   "cell_type": "code",
   "execution_count": 10,
   "metadata": {},
   "outputs": [
    {
     "data": {
      "text/plain": [
       "[10, 2, 3, 4, 5]"
      ]
     },
     "execution_count": 10,
     "metadata": {},
     "output_type": "execute_result"
    }
   ],
   "source": [
    "# 리스트의 요소 변경\n",
    "L = [1,2,3,4,5]\n",
    "L[0] = 10\n",
    "L"
   ]
  },
  {
   "cell_type": "code",
   "execution_count": 12,
   "metadata": {},
   "outputs": [
    {
     "ename": "TypeError",
     "evalue": "'tuple' object does not support item assignment",
     "output_type": "error",
     "traceback": [
      "\u001b[1;31m---------------------------------------------------------------------------\u001b[0m",
      "\u001b[1;31mTypeError\u001b[0m                                 Traceback (most recent call last)",
      "\u001b[1;32m<ipython-input-12-09548f8cce23>\u001b[0m in \u001b[0;36m<module>\u001b[1;34m\u001b[0m\n\u001b[0;32m      1\u001b[0m \u001b[1;31m# 튜플의 요소 변경\u001b[0m\u001b[1;33m\u001b[0m\u001b[1;33m\u001b[0m\u001b[1;33m\u001b[0m\u001b[0m\n\u001b[0;32m      2\u001b[0m \u001b[0mT\u001b[0m \u001b[1;33m=\u001b[0m \u001b[1;36m1\u001b[0m\u001b[1;33m,\u001b[0m\u001b[1;36m2\u001b[0m\u001b[1;33m,\u001b[0m\u001b[1;36m3\u001b[0m\u001b[1;33m,\u001b[0m\u001b[1;36m4\u001b[0m\u001b[1;33m,\u001b[0m\u001b[1;36m5\u001b[0m\u001b[1;33m\u001b[0m\u001b[1;33m\u001b[0m\u001b[0m\n\u001b[1;32m----> 3\u001b[1;33m \u001b[0mT\u001b[0m\u001b[1;33m[\u001b[0m\u001b[1;36m0\u001b[0m\u001b[1;33m]\u001b[0m \u001b[1;33m=\u001b[0m \u001b[1;36m10\u001b[0m\u001b[1;33m\u001b[0m\u001b[1;33m\u001b[0m\u001b[0m\n\u001b[0m\u001b[0;32m      4\u001b[0m \u001b[0mT\u001b[0m\u001b[1;33m\u001b[0m\u001b[1;33m\u001b[0m\u001b[0m\n",
      "\u001b[1;31mTypeError\u001b[0m: 'tuple' object does not support item assignment"
     ]
    }
   ],
   "source": [
    "# 튜플의 요소 변경\n",
    "# TypeError: 'tuple' object does not support item assignment --> 튜플의 요소는 변경할 수 없다\n",
    "T = 1,2,3,4,5\n",
    "T[0] = 10\n",
    "T"
   ]
  },
  {
   "cell_type": "markdown",
   "metadata": {},
   "source": [
    "## 차이점2 : 순회 속도\n",
    "- 순회 속도는 리스트보다 튜플이 약간 더 빠름\n",
    "- 따라서 요소를 변경할 필요가 없고, 요소에 대한 연산 결과만 필요한 경우에는 리스트보다 튜플이 적합하다.\n",
    "    - 요소에 대한 연산 결과만 필요한 경우 : ndarray를 주로 사용한다.\n",
    "- 데이터가 큰 경우에 한해서, 리스트로 작업한 후, 튜플로 자료형을 바꾼 후 순회를 함\n",
    "    - 리스트 -> 튜플 : tuple(리스트)\n",
    "    - 튜플 -> 리스트 : list(튜플)"
   ]
  },
  {
   "cell_type": "code",
   "execution_count": 13,
   "metadata": {},
   "outputs": [],
   "source": [
    "# 순회 속도 비교하기\n",
    "large_L = list(range(100000))\n",
    "large_T = tuple(range(100000))"
   ]
  },
  {
   "cell_type": "code",
   "execution_count": 14,
   "metadata": {},
   "outputs": [
    {
     "data": {
      "text/plain": [
       "1645798252.919035"
      ]
     },
     "execution_count": 14,
     "metadata": {},
     "output_type": "execute_result"
    }
   ],
   "source": [
    "import time\n",
    "time.time()"
   ]
  },
  {
   "cell_type": "code",
   "execution_count": 15,
   "metadata": {},
   "outputs": [
    {
     "name": "stdout",
     "output_type": "stream",
     "text": [
      "0.0034728050231933594\n"
     ]
    }
   ],
   "source": [
    "# 리스트 순회 속도 측정\n",
    "import time\n",
    "start_time = time.time()\n",
    "for val1 in large_L:\n",
    "    pass\n",
    "end_time = time.time()\n",
    "print(end_time - start_time)"
   ]
  },
  {
   "cell_type": "code",
   "execution_count": 16,
   "metadata": {},
   "outputs": [
    {
     "name": "stdout",
     "output_type": "stream",
     "text": [
      "0.01259469985961914\n"
     ]
    }
   ],
   "source": [
    "# 튜플 순회 속도 측정\n",
    "import time\n",
    "start_time = time.time()\n",
    "for val1 in large_T:\n",
    "    pass\n",
    "end_time = time.time()\n",
    "print(end_time - start_time)"
   ]
  },
  {
   "cell_type": "markdown",
   "metadata": {},
   "source": [
    "## 리스트 관련 함수 : 요소 추가"
   ]
  },
  {
   "cell_type": "markdown",
   "metadata": {},
   "source": [
    "1. List.append(x) : 새로운 요소 x를 맨 뒤에 추가\n",
    "2. List.insert(a, x) : 새로운 요소 x를 a 위치에 추가 (기존에 있던 요소는 뒤로 한칸씩 밀림)\n",
    "3. List.remove(x) : 기존 요소 x를 제거 (단, x가 여러 개면 맨 앞 하나만 지워지고, 없으면 오류 발생)\n",
    "4. List.pop() : 맨 마지막 요소를 출력하면서 그 요소를 삭제 (stack 구조)\n",
    "5. List.index(x) : x의 위치를 반환(단, x가 여러 개면 맨 앞 인덱스를 반환하고, 없으면 오류 발생)"
   ]
  },
  {
   "cell_type": "code",
   "execution_count": 17,
   "metadata": {},
   "outputs": [
    {
     "name": "stdout",
     "output_type": "stream",
     "text": [
      "[4, 5, 1, 2, 10, 15]\n"
     ]
    }
   ],
   "source": [
    "# 요소 추가 함수: append\n",
    "L1 = [4,5,1,2,10]\n",
    "L1.append(15)\n",
    "print(L1)"
   ]
  },
  {
   "cell_type": "code",
   "execution_count": 18,
   "metadata": {},
   "outputs": [
    {
     "name": "stdout",
     "output_type": "stream",
     "text": [
      "[4, 7, 5, 1, 2, 10]\n"
     ]
    }
   ],
   "source": [
    "# 요소 추가 함수: insert\n",
    "L2 = [4,5,1,2,10]\n",
    "L2.insert(1,7)\n",
    "print(L2)"
   ]
  },
  {
   "cell_type": "code",
   "execution_count": 19,
   "metadata": {},
   "outputs": [
    {
     "name": "stdout",
     "output_type": "stream",
     "text": [
      "[3, 2, 1, 4]\n"
     ]
    }
   ],
   "source": [
    "# 요소 제거 함수: remove\n",
    "L3 = [1,3,2,1,4]\n",
    "L3.remove(1)\n",
    "print(L3)"
   ]
  },
  {
   "cell_type": "code",
   "execution_count": 20,
   "metadata": {},
   "outputs": [
    {
     "ename": "ValueError",
     "evalue": "list.remove(x): x not in list",
     "output_type": "error",
     "traceback": [
      "\u001b[1;31m---------------------------------------------------------------------------\u001b[0m",
      "\u001b[1;31mValueError\u001b[0m                                Traceback (most recent call last)",
      "\u001b[1;32m<ipython-input-20-b18f8491d873>\u001b[0m in \u001b[0;36m<module>\u001b[1;34m\u001b[0m\n\u001b[0;32m      1\u001b[0m \u001b[1;31m#   만약 L3에 없는 요소를 remove한다면?\u001b[0m\u001b[1;33m\u001b[0m\u001b[1;33m\u001b[0m\u001b[1;33m\u001b[0m\u001b[0m\n\u001b[1;32m----> 2\u001b[1;33m \u001b[0mL3\u001b[0m\u001b[1;33m.\u001b[0m\u001b[0mremove\u001b[0m\u001b[1;33m(\u001b[0m\u001b[1;36m10\u001b[0m\u001b[1;33m)\u001b[0m\u001b[1;33m\u001b[0m\u001b[1;33m\u001b[0m\u001b[0m\n\u001b[0m",
      "\u001b[1;31mValueError\u001b[0m: list.remove(x): x not in list"
     ]
    }
   ],
   "source": [
    "#   만약 L3에 없는 요소를 remove한다면?\n",
    "L3.remove(10)"
   ]
  },
  {
   "cell_type": "code",
   "execution_count": 21,
   "metadata": {},
   "outputs": [
    {
     "name": "stdout",
     "output_type": "stream",
     "text": [
      "10\n",
      "[4, 5, 1, 2]\n"
     ]
    }
   ],
   "source": [
    "# 요소 제거 함수 : pop\n",
    "L4 = [4,5,1,2,10]\n",
    "print(L4.pop())\n",
    "print(L4)"
   ]
  },
  {
   "cell_type": "code",
   "execution_count": 22,
   "metadata": {},
   "outputs": [
    {
     "name": "stdout",
     "output_type": "stream",
     "text": [
      "1의 위치 : 0\n",
      "3의 위치 : 1\n"
     ]
    },
    {
     "ename": "ValueError",
     "evalue": "5 is not in list",
     "output_type": "error",
     "traceback": [
      "\u001b[1;31m---------------------------------------------------------------------------\u001b[0m",
      "\u001b[1;31mValueError\u001b[0m                                Traceback (most recent call last)",
      "\u001b[1;32m<ipython-input-22-015ac8bdb6b4>\u001b[0m in \u001b[0;36m<module>\u001b[1;34m\u001b[0m\n\u001b[0;32m      4\u001b[0m \u001b[0mprint\u001b[0m\u001b[1;33m(\u001b[0m\u001b[1;34m\"3의 위치 : {}\"\u001b[0m\u001b[1;33m.\u001b[0m\u001b[0mformat\u001b[0m\u001b[1;33m(\u001b[0m\u001b[0mL5\u001b[0m\u001b[1;33m.\u001b[0m\u001b[0mindex\u001b[0m\u001b[1;33m(\u001b[0m\u001b[1;36m3\u001b[0m\u001b[1;33m)\u001b[0m\u001b[1;33m)\u001b[0m\u001b[1;33m)\u001b[0m\u001b[1;33m\u001b[0m\u001b[1;33m\u001b[0m\u001b[0m\n\u001b[0;32m      5\u001b[0m \u001b[1;33m\u001b[0m\u001b[0m\n\u001b[1;32m----> 6\u001b[1;33m \u001b[0mL5\u001b[0m\u001b[1;33m.\u001b[0m\u001b[0mindex\u001b[0m\u001b[1;33m(\u001b[0m\u001b[1;36m5\u001b[0m\u001b[1;33m)\u001b[0m\u001b[1;33m\u001b[0m\u001b[1;33m\u001b[0m\u001b[0m\n\u001b[0m",
      "\u001b[1;31mValueError\u001b[0m: 5 is not in list"
     ]
    }
   ],
   "source": [
    "# 위치 찾기 함수 : index\n",
    "L5 = [1,3,2,1,4]\n",
    "print(\"1의 위치 : {}\".format(L5.index(1)))\n",
    "print(\"3의 위치 : {}\".format(L5.index(3)))\n",
    "\n",
    "L5.index(5) # 5의 위치 : 없으므로 Error 발생 (5 is not in list)"
   ]
  },
  {
   "cell_type": "markdown",
   "metadata": {},
   "source": [
    "## 리스트 관련 함수: 확장하기\n",
    "- List1 + List2: 두 리스트를 그대로 이어 붙임 (튜플도 가능)\n",
    "- List1.extend(List2): List1에 List2를 그대로 이어 붙임 (List1 + List2와 같음)"
   ]
  },
  {
   "cell_type": "code",
   "execution_count": 23,
   "metadata": {},
   "outputs": [
    {
     "name": "stdout",
     "output_type": "stream",
     "text": [
      "[1, 2, 3, 4, 5, 6]\n"
     ]
    }
   ],
   "source": [
    "# 예시\n",
    "L1 = [1,2,3]\n",
    "L2 = [4,5,6]\n",
    "print(L1 + L2)"
   ]
  },
  {
   "cell_type": "markdown",
   "metadata": {},
   "source": [
    "## 튜플 관련 함수\n",
    "- 튜플은 요소 변경이 불가능하므로, 추가 및 제거 관련 함수를 지원하지 않음\n",
    "- 튜플은 사실 소괄호를 쓰지 않아도 된다는 특징 덕분에 SWAP (값을 서로 변경), 함수의 가변인자 및 여러 개의 출력을 받는 데 많이 사용함"
   ]
  },
  {
   "cell_type": "code",
   "execution_count": 24,
   "metadata": {},
   "outputs": [
    {
     "name": "stdout",
     "output_type": "stream",
     "text": [
      "(1, 2, 3, 4, 5, 6)\n"
     ]
    }
   ],
   "source": [
    "# 예시\n",
    "L1 = (1,2,3)\n",
    "L2 = (4,5,6)\n",
    "print(L1 + L2)"
   ]
  },
  {
   "cell_type": "code",
   "execution_count": 25,
   "metadata": {},
   "outputs": [
    {
     "name": "stdout",
     "output_type": "stream",
     "text": [
      "(1, 2, 3, 4)\n"
     ]
    }
   ],
   "source": [
    "# 소괄호 없이 튜플 만들기\n",
    "T = 1,2,3,4\n",
    "print(T)"
   ]
  },
  {
   "cell_type": "code",
   "execution_count": 27,
   "metadata": {},
   "outputs": [
    {
     "name": "stdout",
     "output_type": "stream",
     "text": [
      "<class 'tuple'>\n",
      "(1,)\n"
     ]
    }
   ],
   "source": [
    "# 원소가 하나인 튜플은 반드시 원소 뒤에 쉼표를 붙여야 함\n",
    "#   예를 들어, 신경망에서 은닉층이 1개인 신경망을 구축할 때 이와 같은 형태로 사용\n",
    "T = 1,\n",
    "print(type(T))\n",
    "print(T)"
   ]
  },
  {
   "cell_type": "code",
   "execution_count": 29,
   "metadata": {},
   "outputs": [
    {
     "name": "stdout",
     "output_type": "stream",
     "text": [
      "1 2\n",
      "2 1\n"
     ]
    }
   ],
   "source": [
    "# 튜플을 이용한 여러 값 동시에 입력받기 및 Swap\n",
    "a, b = 1, 2     # a = 1; b = 2\n",
    "print(a,b)\n",
    "b, a = a, b     # Swap\n",
    "print(a,b)"
   ]
  },
  {
   "cell_type": "code",
   "execution_count": 30,
   "metadata": {},
   "outputs": [
    {
     "name": "stdout",
     "output_type": "stream",
     "text": [
      "입력된 데이터의 타입:<class 'tuple'>\n",
      "15 120\n"
     ]
    }
   ],
   "source": [
    "# 함수의 가변 인자로 사용\n",
    "def f(*x):  # `*` : 인자수가 정해지지 않았음을 의미\n",
    "    print(\"입력된 데이터의 타입:{}\".format(type(x)))\n",
    "    sum_x = 0\n",
    "    product_x = 1\n",
    "    for val in x:\n",
    "        sum_x += val\n",
    "        product_x *= val\n",
    "    return sum_x, product_x\n",
    "\n",
    "S, P = f(1,2,3,4,5)     # 출력을 각각 S와 P로 받음\n",
    "print(S, P)"
   ]
  }
 ],
 "metadata": {
  "interpreter": {
   "hash": "b3ba2566441a7c06988d0923437866b63cedc61552a5af99d1f4fb67d367b25f"
  },
  "kernelspec": {
   "display_name": "Python 3.8.8 ('base')",
   "language": "python",
   "name": "python3"
  },
  "language_info": {
   "codemirror_mode": {
    "name": "ipython",
    "version": 3
   },
   "file_extension": ".py",
   "mimetype": "text/x-python",
   "name": "python",
   "nbconvert_exporter": "python",
   "pygments_lexer": "ipython3",
   "version": "3.8.8"
  },
  "orig_nbformat": 4
 },
 "nbformat": 4,
 "nbformat_minor": 2
}
