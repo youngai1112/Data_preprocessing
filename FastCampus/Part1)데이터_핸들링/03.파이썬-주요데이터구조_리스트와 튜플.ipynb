{
 "cells": [
  {
   "cell_type": "markdown",
   "metadata": {},
   "source": [
    "# 파이썬 주요 데이터 구조\n",
    "1. 리스트와 튜플"
   ]
  },
  {
   "cell_type": "markdown",
   "metadata": {},
   "source": [
    "## 개요\n",
    "- 리스트와 튜플 모두 여러 데이터를 담는 컨테이너형 변수임"
   ]
  },
  {
   "cell_type": "code",
   "execution_count": 4,
   "metadata": {},
   "outputs": [
    {
     "name": "stdout",
     "output_type": "stream",
     "text": [
      "[1, 2, 3, 4, 5] ['a', 'b', 'c', 1, 2] [1, 2, [3, 4]]\n",
      "<class 'list'>\n"
     ]
    }
   ],
   "source": [
    "# 리스트 정의 : [Data 1, Data 2, ..., Data n]\n",
    "L1 = [1,2,3,4,5]\n",
    "L2 = ['a', 'b', 'c', 1, 2]\n",
    "L3 = [1, 2, [3, 4]]\n",
    "print(L1, L2, L3)\n",
    "print(type(L1))"
   ]
  },
  {
   "cell_type": "code",
   "execution_count": 5,
   "metadata": {},
   "outputs": [
    {
     "name": "stdout",
     "output_type": "stream",
     "text": [
      "(1, 2, 3, 4, 5) ('a', 'b', 'c', 'd', 'e') (1, 2, [3, 4])\n",
      "<class 'tuple'>\n"
     ]
    }
   ],
   "source": [
    "# 튜플의 정의: (Data 1, Data 2, ..., Data n)\n",
    "T1 = (1,2,3,4,5)\n",
    "T2 = ('a', 'b', 'c', 'd', 'e')\n",
    "T3 = (1, 2, [3, 4])\n",
    "print(T1, T2, T3)\n",
    "print(type(T1))"
   ]
  },
  {
   "cell_type": "markdown",
   "metadata": {},
   "source": [
    "## 공통점1: 인덱싱과 슬라이싱\n",
    "- 리스트와 튜플 모두 인덱싱과 슬라이싱이 가능하다.\n",
    "- 인덱싱 방법\n",
    "    - List[i], Tuple[i]: 앞에서 i번째 요소 (0부터 시작)\n",
    "    - List[-i], Tuple[-i]: 뒤에서 i번째 요소(-1부터 시작)\n",
    "- 슬라이싱 방법 : `List[start:end:step]`, `Tuple[start:end:step]`\n",
    "    - start 인덱스부터 end 인덱스까지 step으로 건너 뛴 부분 리스트 혹은 튜플을 반환\n",
    "    - step은 default가 1로 입력하지 않아도 무방함, List[start:end]\n",
    "    - start와 end도 입력하지 않아도 되나, 콜론(:)은 넣어야 함"
   ]
  },
  {
   "cell_type": "code",
   "execution_count": 8,
   "metadata": {},
   "outputs": [
    {
     "name": "stdout",
     "output_type": "stream",
     "text": [
      "1\n",
      "10\n",
      "6\n",
      "[4, 5, 1]\n",
      "[4, 5, 1]\n",
      "[1, 2, 10, 6]\n",
      "[4, 1]\n"
     ]
    }
   ],
   "source": [
    "# 예시\n",
    "L = [4, 5, 1, 2, 10, 6]\n",
    "\n",
    "print(L[2])\n",
    "print(L[4])\n",
    "print(L[-1])\n",
    "print(L[0:3])\n",
    "print(L[:3])\n",
    "print(L[2:])\n",
    "print(L[0:4:2])"
   ]
  },
  {
   "cell_type": "markdown",
   "metadata": {},
   "source": [
    "## 공통점2: 순회 가능 (iterable)\n",
    "- 리스트와 튜플 모두 for문을 이용하여 순회를 할 수 있음\n",
    "    - `for data in List: `\n",
    "    - `for data in Tuple: `\n",
    "- 따라서 max, min 등의 순회 가능한 요소를 입력 받는 함수의 입력으로 사용할 수 있음"
   ]
  },
  {
   "cell_type": "code",
   "execution_count": 9,
   "metadata": {},
   "outputs": [
    {
     "name": "stdout",
     "output_type": "stream",
     "text": [
      "List 순회\n",
      "1\n",
      "4\n",
      "9\n",
      "16\n",
      "25\n",
      "\n",
      "Tuple 순회\n",
      "1\n",
      "4\n",
      "9\n",
      "16\n",
      "25\n"
     ]
    }
   ],
   "source": [
    "# for 문을 이용한 순회\n",
    "L = [1,2,3,4,5]\n",
    "T = (1,2,3,4,5)\n",
    "\n",
    "print(\"List 순회\")\n",
    "for val in L:\n",
    "    print(val ** 2)\n",
    "\n",
    "print(\"\\nTuple 순회\")\n",
    "for val in T:\n",
    "    print(val ** 2)"
   ]
  },
  {
   "cell_type": "markdown",
   "metadata": {},
   "source": []
  }
 ],
 "metadata": {
  "interpreter": {
   "hash": "b3ba2566441a7c06988d0923437866b63cedc61552a5af99d1f4fb67d367b25f"
  },
  "kernelspec": {
   "display_name": "Python 3.8.8 ('base')",
   "language": "python",
   "name": "python3"
  },
  "language_info": {
   "codemirror_mode": {
    "name": "ipython",
    "version": 3
   },
   "file_extension": ".py",
   "mimetype": "text/x-python",
   "name": "python",
   "nbconvert_exporter": "python",
   "pygments_lexer": "ipython3",
   "version": "3.8.8"
  },
  "orig_nbformat": 4
 },
 "nbformat": 4,
 "nbformat_minor": 2
}
